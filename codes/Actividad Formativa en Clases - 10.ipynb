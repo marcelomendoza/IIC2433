{
 "cells": [
  {
   "cell_type": "markdown",
   "metadata": {},
   "source": [
    "# IIC-2433 Minería de Datos UC"
   ]
  },
  {
   "cell_type": "markdown",
   "metadata": {},
   "source": [
    "- Versiones de librerías, python 3.8.10\n",
    "\n",
    "- numpy 1.20.3\n",
    "- sklearn 1.0.2"
   ]
  },
  {
   "cell_type": "markdown",
   "metadata": {},
   "source": [
    "\n",
    "## Actividad en clase\n",
    "\n",
    "Usando el algoritmo **RandomForest**, **AdaBoost** y **Stacking**, haga lo siguiente:\n",
    "\n",
    "- Trabaje con las particiones training/testing del dataset **20newsgroups**. \n",
    "- Use un vectorizador **TfidfVectorizer** con min_df = 5, ngram_range = (1, 2) y max_features = 50000. Elimine stopwords en Inglés y pase todo a minúscula. \n",
    "- Ajuste el clasificador **RandomForest** de manera que al menos obtenga un **60%** de accuracy. Cuide que su modelo no sea muy complejo.\n",
    "- Muestre el classification report del clasificador.\n",
    "- Ajuste el clasificador **AdaBoost** de manera que al menos obtenga un **40%** de accuracy. Cuide que su modelo no sea muy complejo.\n",
    "- Muestre el classification report del clasificador.\n",
    "- Muestre la curva de staged predict de AdaBoost.\n",
    "- Construya un clasificador de **stacking** en base a los dos clasificadores anteriores.\n",
    "- Muestre el classification report del clasificador.\n",
    "- Cuanto termine, me avisa para entregarle una **L (logrado)**.\n",
    "- Recuerde que cada L es una décima más en la nota de la asignatura.\n",
    "- Pueden trabajar de a dos.\n",
    "\n",
    "***Tiene hasta el final de la clase.***\n"
   ]
  },
  {
   "cell_type": "markdown",
   "metadata": {},
   "source": [
    "- Vea documentación del TfidfVectorizer en: https://scikit-learn.org/stable/modules/generated/sklearn.feature_extraction.text.TfidfVectorizer.html"
   ]
  },
  {
   "cell_type": "markdown",
   "metadata": {},
   "source": [
    "# Solución"
   ]
  },
  {
   "cell_type": "code",
   "execution_count": 1,
   "metadata": {},
   "outputs": [],
   "source": [
    "from sklearn.datasets import fetch_20newsgroups\n",
    "\n",
    "X_train_text, y_train = fetch_20newsgroups(subset=\"train\", remove=('headers', 'footers', 'quotes'), return_X_y=True)\n",
    "X_test_text, y_test  = fetch_20newsgroups(subset=\"test\", remove=('headers', 'footers', 'quotes'), return_X_y=True)"
   ]
  },
  {
   "cell_type": "code",
   "execution_count": 2,
   "metadata": {},
   "outputs": [],
   "source": [
    "from sklearn.feature_extraction.text import TfidfVectorizer\n",
    "\n",
    "tfidf_vc = TfidfVectorizer(min_df = 5, max_features = 50000, analyzer = \"word\", ngram_range = (1, 2), stop_words = 'english', lowercase = True)\n",
    "train_vc = tfidf_vc.fit_transform(X_train_text)\n",
    "test_vc = tfidf_vc.transform(X_test_text)"
   ]
  },
  {
   "cell_type": "code",
   "execution_count": 3,
   "metadata": {},
   "outputs": [
    {
     "data": {
      "text/plain": [
       "0.6182952734997345"
      ]
     },
     "execution_count": 3,
     "metadata": {},
     "output_type": "execute_result"
    }
   ],
   "source": [
    "from sklearn.ensemble import RandomForestClassifier\n",
    "from sklearn import metrics\n",
    "\n",
    "clf1 = RandomForestClassifier(min_samples_split=50, n_estimators=100, random_state=0)\n",
    "clf1.fit(train_vc, y_train)\n",
    "y_pred = clf1.predict(test_vc)\n",
    "metrics.accuracy_score(y_test, y_pred)"
   ]
  },
  {
   "cell_type": "code",
   "execution_count": 4,
   "metadata": {},
   "outputs": [],
   "source": [
    "labels = ['alt.atheism',\n",
    " 'comp.graphics',\n",
    " 'comp.os.ms-windows.misc',\n",
    " 'comp.sys.ibm.pc.hardware',\n",
    " 'comp.sys.mac.hardware',\n",
    " 'comp.windows.x',\n",
    " 'misc.forsale',\n",
    " 'rec.autos',\n",
    " 'rec.motorcycles',\n",
    " 'rec.sport.baseball',\n",
    " 'rec.sport.hockey',\n",
    " 'sci.crypt',\n",
    " 'sci.electronics',\n",
    " 'sci.med',\n",
    " 'sci.space',\n",
    " 'soc.religion.christian',\n",
    " 'talk.politics.guns',\n",
    " 'talk.politics.mideast',\n",
    " 'talk.politics.misc',\n",
    " 'talk.religion.misc']"
   ]
  },
  {
   "cell_type": "code",
   "execution_count": 5,
   "metadata": {},
   "outputs": [
    {
     "name": "stdout",
     "output_type": "stream",
     "text": [
      "                          precision    recall  f1-score   support\n",
      "\n",
      "             alt.atheism       0.46      0.35      0.40       319\n",
      "           comp.graphics       0.59      0.61      0.60       389\n",
      " comp.os.ms-windows.misc       0.58      0.63      0.60       394\n",
      "comp.sys.ibm.pc.hardware       0.57      0.61      0.59       392\n",
      "   comp.sys.mac.hardware       0.66      0.62      0.64       385\n",
      "          comp.windows.x       0.72      0.64      0.68       395\n",
      "            misc.forsale       0.71      0.71      0.71       390\n",
      "               rec.autos       0.42      0.69      0.52       396\n",
      "         rec.motorcycles       0.71      0.65      0.68       398\n",
      "      rec.sport.baseball       0.71      0.73      0.72       397\n",
      "        rec.sport.hockey       0.78      0.83      0.81       399\n",
      "               sci.crypt       0.78      0.64      0.70       396\n",
      "         sci.electronics       0.49      0.44      0.46       393\n",
      "                 sci.med       0.69      0.68      0.68       396\n",
      "               sci.space       0.68      0.69      0.68       394\n",
      "  soc.religion.christian       0.56      0.80      0.66       398\n",
      "      talk.politics.guns       0.53      0.59      0.56       364\n",
      "   talk.politics.mideast       0.83      0.68      0.75       376\n",
      "      talk.politics.misc       0.44      0.36      0.40       310\n",
      "      talk.religion.misc       0.36      0.10      0.15       251\n",
      "\n",
      "                accuracy                           0.62      7532\n",
      "               macro avg       0.61      0.60      0.60      7532\n",
      "            weighted avg       0.62      0.62      0.61      7532\n",
      "\n"
     ]
    }
   ],
   "source": [
    "from sklearn import metrics\n",
    "\n",
    "print(metrics.classification_report(y_test, y_pred, target_names = labels))"
   ]
  },
  {
   "cell_type": "code",
   "execution_count": 18,
   "metadata": {},
   "outputs": [
    {
     "data": {
      "text/plain": [
       "0.4340148698884758"
      ]
     },
     "execution_count": 18,
     "metadata": {},
     "output_type": "execute_result"
    }
   ],
   "source": [
    "from sklearn.ensemble import AdaBoostClassifier\n",
    "from sklearn.tree import DecisionTreeClassifier\n",
    "\n",
    "clf2 = AdaBoostClassifier(DecisionTreeClassifier(max_depth=10), n_estimators=15, random_state=0)\n",
    "clf2.fit(train_vc, y_train)\n",
    "y_pred = clf2.predict(test_vc)\n",
    "metrics.accuracy_score(y_test, y_pred)"
   ]
  },
  {
   "cell_type": "code",
   "execution_count": 19,
   "metadata": {},
   "outputs": [
    {
     "name": "stdout",
     "output_type": "stream",
     "text": [
      "                          precision    recall  f1-score   support\n",
      "\n",
      "             alt.atheism       0.41      0.28      0.33       319\n",
      "           comp.graphics       0.39      0.48      0.43       389\n",
      " comp.os.ms-windows.misc       0.56      0.41      0.47       394\n",
      "comp.sys.ibm.pc.hardware       0.49      0.40      0.44       392\n",
      "   comp.sys.mac.hardware       0.58      0.43      0.50       385\n",
      "          comp.windows.x       0.68      0.52      0.59       395\n",
      "            misc.forsale       0.60      0.54      0.56       390\n",
      "               rec.autos       0.76      0.38      0.51       396\n",
      "         rec.motorcycles       0.86      0.44      0.58       398\n",
      "      rec.sport.baseball       0.13      0.71      0.22       397\n",
      "        rec.sport.hockey       0.70      0.55      0.61       399\n",
      "               sci.crypt       0.75      0.48      0.59       396\n",
      "         sci.electronics       0.34      0.25      0.29       393\n",
      "                 sci.med       0.69      0.31      0.43       396\n",
      "               sci.space       0.69      0.43      0.53       394\n",
      "  soc.religion.christian       0.56      0.55      0.56       398\n",
      "      talk.politics.guns       0.55      0.37      0.44       364\n",
      "   talk.politics.mideast       0.94      0.55      0.69       376\n",
      "      talk.politics.misc       0.23      0.27      0.25       310\n",
      "      talk.religion.misc       0.26      0.16      0.20       251\n",
      "\n",
      "                accuracy                           0.43      7532\n",
      "               macro avg       0.56      0.43      0.46      7532\n",
      "            weighted avg       0.57      0.43      0.47      7532\n",
      "\n"
     ]
    }
   ],
   "source": [
    "print(metrics.classification_report(y_test, y_pred, target_names = labels))"
   ]
  },
  {
   "cell_type": "code",
   "execution_count": 20,
   "metadata": {},
   "outputs": [],
   "source": [
    "from sklearn.metrics import accuracy_score\n",
    "\n",
    "test_errors = []\n",
    "\n",
    "for test_predict in clf2.staged_predict(test_vc):\n",
    "    test_errors.append(1.0 - accuracy_score(test_predict, y_test))\n",
    "    "
   ]
  },
  {
   "cell_type": "code",
   "execution_count": 21,
   "metadata": {},
   "outputs": [
    {
     "data": {
      "text/plain": [
       "Text(0.5, 0, 'Number of Trees')"
      ]
     },
     "execution_count": 21,
     "metadata": {},
     "output_type": "execute_result"
    },
    {
     "data": {
      "image/png": "[encoded data removed]",
      "text/plain": [
       "<Figure size 1080x360 with 1 Axes>"
      ]
     },
     "metadata": {
      "needs_background": "light"
     },
     "output_type": "display_data"
    }
   ],
   "source": [
    "import matplotlib.pyplot as plt\n",
    "\n",
    "plt.figure(figsize=(15, 5))\n",
    "\n",
    "plt.plot(range(1, len(clf2) + 1), test_errors, c=\"black\")\n",
    "plt.ylabel(\"Test Error\")\n",
    "plt.xlabel(\"Number of Trees\")"
   ]
  },
  {
   "cell_type": "code",
   "execution_count": 22,
   "metadata": {},
   "outputs": [
    {
     "data": {
      "text/html": [
       "<style>#sk-container-id-1 {color: black;}#sk-container-id-1 pre{padding: 0;}#sk-container-id-1 div.sk-toggleable {background-color: white;}#sk-container-id-1 label.sk-toggleable__label {cursor: pointer;display: block;width: 100%;margin-bottom: 0;padding: 0.3em;box-sizing: border-box;text-align: center;}#sk-container-id-1 label.sk-toggleable__label-arrow:before {content: \"▸\";float: left;margin-right: 0.25em;color: #696969;}#sk-container-id-1 label.sk-toggleable__label-arrow:hover:before {color: black;}#sk-container-id-1 div.sk-estimator:hover label.sk-toggleable__label-arrow:before {color: black;}#sk-container-id-1 div.sk-toggleable__content {max-height: 0;max-width: 0;overflow: hidden;text-align: left;background-color: #f0f8ff;}#sk-container-id-1 div.sk-toggleable__content pre {margin: 0.2em;color: black;border-radius: 0.25em;background-color: #f0f8ff;}#sk-container-id-1 input.sk-toggleable__control:checked~div.sk-toggleable__content {max-height: 200px;max-width: 100%;overflow: auto;}#sk-container-id-1 input.sk-toggleable__control:checked~label.sk-toggleable__label-arrow:before {content: \"▾\";}#sk-container-id-1 div.sk-estimator input.sk-toggleable__control:checked~label.sk-toggleable__label {background-color: #d4ebff;}#sk-container-id-1 div.sk-label input.sk-toggleable__control:checked~label.sk-toggleable__label {background-color: #d4ebff;}#sk-container-id-1 input.sk-hidden--visually {border: 0;clip: rect(1px 1px 1px 1px);clip: rect(1px, 1px, 1px, 1px);height: 1px;margin: -1px;overflow: hidden;padding: 0;position: absolute;width: 1px;}#sk-container-id-1 div.sk-estimator {font-family: monospace;background-color: #f0f8ff;border: 1px dotted black;border-radius: 0.25em;box-sizing: border-box;margin-bottom: 0.5em;}#sk-container-id-1 div.sk-estimator:hover {background-color: #d4ebff;}#sk-container-id-1 div.sk-parallel-item::after {content: \"\";width: 100%;border-bottom: 1px solid gray;flex-grow: 1;}#sk-container-id-1 div.sk-label:hover label.sk-toggleable__label {background-color: #d4ebff;}#sk-container-id-1 div.sk-serial::before {content: \"\";position: absolute;border-left: 1px solid gray;box-sizing: border-box;top: 0;bottom: 0;left: 50%;z-index: 0;}#sk-container-id-1 div.sk-serial {display: flex;flex-direction: column;align-items: center;background-color: white;padding-right: 0.2em;padding-left: 0.2em;position: relative;}#sk-container-id-1 div.sk-item {position: relative;z-index: 1;}#sk-container-id-1 div.sk-parallel {display: flex;align-items: stretch;justify-content: center;background-color: white;position: relative;}#sk-container-id-1 div.sk-item::before, #sk-container-id-1 div.sk-parallel-item::before {content: \"\";position: absolute;border-left: 1px solid gray;box-sizing: border-box;top: 0;bottom: 0;left: 50%;z-index: -1;}#sk-container-id-1 div.sk-parallel-item {display: flex;flex-direction: column;z-index: 1;position: relative;background-color: white;}#sk-container-id-1 div.sk-parallel-item:first-child::after {align-self: flex-end;width: 50%;}#sk-container-id-1 div.sk-parallel-item:last-child::after {align-self: flex-start;width: 50%;}#sk-container-id-1 div.sk-parallel-item:only-child::after {width: 0;}#sk-container-id-1 div.sk-dashed-wrapped {border: 1px dashed gray;margin: 0 0.4em 0.5em 0.4em;box-sizing: border-box;padding-bottom: 0.4em;background-color: white;}#sk-container-id-1 div.sk-label label {font-family: monospace;font-weight: bold;display: inline-block;line-height: 1.2em;}#sk-container-id-1 div.sk-label-container {text-align: center;}#sk-container-id-1 div.sk-container {/* jupyter's `normalize.less` sets `[hidden] { display: none; }` but bootstrap.min.css set `[hidden] { display: none !important; }` so we also need the `!important` here to be able to override the default hidden behavior on the sphinx rendered scikit-learn.org. See: https://github.com/scikit-learn/scikit-learn/issues/21755 */display: inline-block !important;position: relative;}#sk-container-id-1 div.sk-text-repr-fallback {display: none;}</style><div id=\"sk-container-id-1\" class=\"sk-top-container\"><div class=\"sk-text-repr-fallback\"><pre>StackingClassifier(estimators=[(&#x27;rf&#x27;,\n",
       "                                RandomForestClassifier(min_samples_split=50,\n",
       "                                                       random_state=0)),\n",
       "                               (&#x27;ada-50&#x27;,\n",
       "                                AdaBoostClassifier(estimator=DecisionTreeClassifier(max_depth=10),\n",
       "                                                   n_estimators=15,\n",
       "                                                   random_state=0))])</pre><b>In a Jupyter environment, please rerun this cell to show the HTML representation or trust the notebook. <br />On GitHub, the HTML representation is unable to render, please try loading this page with nbviewer.org.</b></div><div class=\"sk-container\" hidden><div class=\"sk-item sk-dashed-wrapped\"><div class=\"sk-label-container\"><div class=\"sk-label sk-toggleable\"><input class=\"sk-toggleable__control sk-hidden--visually\" id=\"sk-estimator-id-1\" type=\"checkbox\" ><label for=\"sk-estimator-id-1\" class=\"sk-toggleable__label sk-toggleable__label-arrow\">StackingClassifier</label><div class=\"sk-toggleable__content\"><pre>StackingClassifier(estimators=[(&#x27;rf&#x27;,\n",
       "                                RandomForestClassifier(min_samples_split=50,\n",
       "                                                       random_state=0)),\n",
       "                               (&#x27;ada-50&#x27;,\n",
       "                                AdaBoostClassifier(estimator=DecisionTreeClassifier(max_depth=10),\n",
       "                                                   n_estimators=15,\n",
       "                                                   random_state=0))])</pre></div></div></div><div class=\"sk-serial\"><div class=\"sk-item\"><div class=\"sk-parallel\"><div class=\"sk-parallel-item\"><div class=\"sk-item\"><div class=\"sk-label-container\"><div class=\"sk-label sk-toggleable\"><label>rf</label></div></div><div class=\"sk-serial\"><div class=\"sk-item\"><div class=\"sk-estimator sk-toggleable\"><input class=\"sk-toggleable__control sk-hidden--visually\" id=\"sk-estimator-id-2\" type=\"checkbox\" ><label for=\"sk-estimator-id-2\" class=\"sk-toggleable__label sk-toggleable__label-arrow\">RandomForestClassifier</label><div class=\"sk-toggleable__content\"><pre>RandomForestClassifier(min_samples_split=50, random_state=0)</pre></div></div></div></div></div></div><div class=\"sk-parallel-item\"><div class=\"sk-item\"><div class=\"sk-label-container\"><div class=\"sk-label sk-toggleable\"><label>ada-50</label></div></div><div class=\"sk-serial\"><div class=\"sk-item sk-dashed-wrapped\"><div class=\"sk-parallel\"><div class=\"sk-parallel-item\"><div class=\"sk-item\"><div class=\"sk-label-container\"><div class=\"sk-label sk-toggleable\"><input class=\"sk-toggleable__control sk-hidden--visually\" id=\"sk-estimator-id-3\" type=\"checkbox\" ><label for=\"sk-estimator-id-3\" class=\"sk-toggleable__label sk-toggleable__label-arrow\">estimator: DecisionTreeClassifier</label><div class=\"sk-toggleable__content\"><pre>DecisionTreeClassifier(max_depth=10)</pre></div></div></div><div class=\"sk-serial\"><div class=\"sk-item\"><div class=\"sk-estimator sk-toggleable\"><input class=\"sk-toggleable__control sk-hidden--visually\" id=\"sk-estimator-id-4\" type=\"checkbox\" ><label for=\"sk-estimator-id-4\" class=\"sk-toggleable__label sk-toggleable__label-arrow\">DecisionTreeClassifier</label><div class=\"sk-toggleable__content\"><pre>DecisionTreeClassifier(max_depth=10)</pre></div></div></div></div></div></div></div></div></div></div></div></div></div><div class=\"sk-item\"><div class=\"sk-parallel\"><div class=\"sk-parallel-item\"><div class=\"sk-item\"><div class=\"sk-label-container\"><div class=\"sk-label sk-toggleable\"><label>final_estimator</label></div></div><div class=\"sk-serial\"><div class=\"sk-item\"><div class=\"sk-estimator sk-toggleable\"><input class=\"sk-toggleable__control sk-hidden--visually\" id=\"sk-estimator-id-5\" type=\"checkbox\" ><label for=\"sk-estimator-id-5\" class=\"sk-toggleable__label sk-toggleable__label-arrow\">LogisticRegression</label><div class=\"sk-toggleable__content\"><pre>LogisticRegression()</pre></div></div></div></div></div></div></div></div></div></div></div></div>"
      ],
      "text/plain": [
       "StackingClassifier(estimators=[('rf',\n",
       "                                RandomForestClassifier(min_samples_split=50,\n",
       "                                                       random_state=0)),\n",
       "                               ('ada-50',\n",
       "                                AdaBoostClassifier(estimator=DecisionTreeClassifier(max_depth=10),\n",
       "                                                   n_estimators=15,\n",
       "                                                   random_state=0))])"
      ]
     },
     "execution_count": 22,
     "metadata": {},
     "output_type": "execute_result"
    }
   ],
   "source": [
    "from sklearn.ensemble import StackingClassifier\n",
    "\n",
    "estimators = [('rf', RandomForestClassifier(min_samples_split=50, n_estimators=100, random_state=0)), \n",
    "              ('ada-50', AdaBoostClassifier(DecisionTreeClassifier(max_depth=10), n_estimators=15, random_state=0))]\n",
    "    \n",
    "\n",
    "clf = StackingClassifier(estimators=estimators)\n",
    "clf.fit(train_vc, y_train)"
   ]
  },
  {
   "cell_type": "code",
   "execution_count": 23,
   "metadata": {},
   "outputs": [
    {
     "data": {
      "text/plain": [
       "0.6216144450345193"
      ]
     },
     "execution_count": 23,
     "metadata": {},
     "output_type": "execute_result"
    }
   ],
   "source": [
    "y_pred = clf.predict(test_vc)\n",
    "metrics.accuracy_score(y_test, y_pred)"
   ]
  },
  {
   "cell_type": "code",
   "execution_count": 24,
   "metadata": {},
   "outputs": [
    {
     "name": "stdout",
     "output_type": "stream",
     "text": [
      "                          precision    recall  f1-score   support\n",
      "\n",
      "             alt.atheism       0.44      0.46      0.45       319\n",
      "           comp.graphics       0.54      0.65      0.59       389\n",
      " comp.os.ms-windows.misc       0.63      0.57      0.60       394\n",
      "comp.sys.ibm.pc.hardware       0.57      0.60      0.59       392\n",
      "   comp.sys.mac.hardware       0.69      0.62      0.65       385\n",
      "          comp.windows.x       0.78      0.63      0.70       395\n",
      "            misc.forsale       0.77      0.69      0.73       390\n",
      "               rec.autos       0.42      0.69      0.52       396\n",
      "         rec.motorcycles       0.70      0.66      0.68       398\n",
      "      rec.sport.baseball       0.70      0.76      0.73       397\n",
      "        rec.sport.hockey       0.87      0.79      0.83       399\n",
      "               sci.crypt       0.84      0.64      0.72       396\n",
      "         sci.electronics       0.42      0.51      0.46       393\n",
      "                 sci.med       0.69      0.69      0.69       396\n",
      "               sci.space       0.69      0.66      0.68       394\n",
      "  soc.religion.christian       0.63      0.74      0.68       398\n",
      "      talk.politics.guns       0.55      0.57      0.56       364\n",
      "   talk.politics.mideast       0.85      0.66      0.74       376\n",
      "      talk.politics.misc       0.39      0.44      0.42       310\n",
      "      talk.religion.misc       0.37      0.14      0.20       251\n",
      "\n",
      "                accuracy                           0.62      7532\n",
      "               macro avg       0.63      0.61      0.61      7532\n",
      "            weighted avg       0.64      0.62      0.62      7532\n",
      "\n"
     ]
    }
   ],
   "source": [
    "print(metrics.classification_report(y_test, y_pred, target_names = labels))"
   ]
  },
  {
   "cell_type": "code",
   "execution_count": null,
   "metadata": {},
   "outputs": [],
   "source": []
  }
 ],
 "metadata": {
  "kernelspec": {
   "display_name": "Python 3 (ipykernel)",
   "language": "python",
   "name": "python3"
  },
  "language_info": {
   "codemirror_mode": {
    "name": "ipython",
    "version": 3
   },
   "file_extension": ".py",
   "mimetype": "text/x-python",
   "name": "python",
   "nbconvert_exporter": "python",
   "pygments_lexer": "ipython3",
   "version": "3.10.11"
  }
 },
 "nbformat": 4,
 "nbformat_minor": 4
}
