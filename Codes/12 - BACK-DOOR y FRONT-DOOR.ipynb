{
 "cells": [
  {
   "cell_type": "markdown",
   "metadata": {},
   "source": [
    "# IIC-2433 Minería de Datos UC"
   ]
  },
  {
   "cell_type": "markdown",
   "metadata": {},
   "source": [
    "- Versiones de librerías, python 3.8.10\n",
    "\n",
    "- numpy 1.20.3\n",
    "- sklearn 1.3.1\n",
    "- DoWhy 0.12\n",
    "- scipy 1.15.3"
   ]
  },
  {
   "cell_type": "code",
   "execution_count": 1,
   "metadata": {},
   "outputs": [
    {
     "name": "stdout",
     "output_type": "stream",
     "text": [
      "Defaulting to user installation because normal site-packages is not writeable\n",
      "Requirement already satisfied: DoWhy in /home/marcelo/.local/lib/python3.10/site-packages (0.12)\n",
      "Requirement already satisfied: causal-learn>=0.1.3.0 in /home/marcelo/.local/lib/python3.10/site-packages (from DoWhy) (0.1.4.1)\n",
      "Requirement already satisfied: cvxpy>=1.2.2 in /home/marcelo/.local/lib/python3.10/site-packages (from DoWhy) (1.6.5)\n",
      "Requirement already satisfied: cython<3.0 in /home/marcelo/.local/lib/python3.10/site-packages (from DoWhy) (0.29.37)\n",
      "Requirement already satisfied: joblib>=1.1.0 in /home/marcelo/.local/lib/python3.10/site-packages (from DoWhy) (1.2.0)\n",
      "Requirement already satisfied: networkx>=2.8.5 in /home/marcelo/.local/lib/python3.10/site-packages (from DoWhy) (3.1)\n",
      "Requirement already satisfied: numba>=0.59 in /home/marcelo/.local/lib/python3.10/site-packages (from DoWhy) (0.59.1)\n",
      "Requirement already satisfied: numpy>1.0 in /home/marcelo/.local/lib/python3.10/site-packages (from DoWhy) (1.24.3)\n",
      "Requirement already satisfied: pandas>1.0 in /home/marcelo/.local/lib/python3.10/site-packages (from DoWhy) (2.2.2)\n",
      "Requirement already satisfied: scikit-learn>1.0 in /home/marcelo/.local/lib/python3.10/site-packages (from DoWhy) (1.6.1)\n",
      "Requirement already satisfied: scipy>=1.10 in /home/marcelo/.local/lib/python3.10/site-packages (from DoWhy) (1.15.3)\n",
      "Requirement already satisfied: statsmodels>=0.13.5 in /home/marcelo/.local/lib/python3.10/site-packages (from DoWhy) (0.14.4)\n",
      "Requirement already satisfied: sympy>=1.10.1 in /home/marcelo/.local/lib/python3.10/site-packages (from DoWhy) (1.14.0)\n",
      "Requirement already satisfied: tqdm>=4.64.0 in /home/marcelo/.local/lib/python3.10/site-packages (from DoWhy) (4.65.0)\n",
      "Requirement already satisfied: graphviz in /home/marcelo/.local/lib/python3.10/site-packages (from causal-learn>=0.1.3.0->DoWhy) (0.20.3)\n",
      "Requirement already satisfied: matplotlib in /home/marcelo/.local/lib/python3.10/site-packages (from causal-learn>=0.1.3.0->DoWhy) (3.9.2)\n",
      "Requirement already satisfied: pydot in /home/marcelo/.local/lib/python3.10/site-packages (from causal-learn>=0.1.3.0->DoWhy) (4.0.0)\n",
      "Requirement already satisfied: momentchi2 in /home/marcelo/.local/lib/python3.10/site-packages (from causal-learn>=0.1.3.0->DoWhy) (0.1.8)\n",
      "Requirement already satisfied: osqp>=0.6.2 in /home/marcelo/.local/lib/python3.10/site-packages (from cvxpy>=1.2.2->DoWhy) (1.0.4)\n",
      "Requirement already satisfied: clarabel>=0.5.0 in /home/marcelo/.local/lib/python3.10/site-packages (from cvxpy>=1.2.2->DoWhy) (0.10.0)\n",
      "Requirement already satisfied: scs>=3.2.4.post1 in /home/marcelo/.local/lib/python3.10/site-packages (from cvxpy>=1.2.2->DoWhy) (3.2.7.post2)\n",
      "Requirement already satisfied: llvmlite<0.43,>=0.42.0dev0 in /home/marcelo/.local/lib/python3.10/site-packages (from numba>=0.59->DoWhy) (0.42.0)\n",
      "Requirement already satisfied: python-dateutil>=2.8.2 in /home/marcelo/.local/lib/python3.10/site-packages (from pandas>1.0->DoWhy) (2.8.2)\n",
      "Requirement already satisfied: pytz>=2020.1 in /usr/lib/python3/dist-packages (from pandas>1.0->DoWhy) (2022.1)\n",
      "Requirement already satisfied: tzdata>=2022.7 in /home/marcelo/.local/lib/python3.10/site-packages (from pandas>1.0->DoWhy) (2023.3)\n",
      "Requirement already satisfied: threadpoolctl>=3.1.0 in /home/marcelo/.local/lib/python3.10/site-packages (from scikit-learn>1.0->DoWhy) (3.1.0)\n",
      "Requirement already satisfied: patsy>=0.5.6 in /home/marcelo/.local/lib/python3.10/site-packages (from statsmodels>=0.13.5->DoWhy) (1.0.1)\n",
      "Requirement already satisfied: packaging>=21.3 in /home/marcelo/.local/lib/python3.10/site-packages (from statsmodels>=0.13.5->DoWhy) (23.2)\n",
      "Requirement already satisfied: mpmath<1.4,>=1.1.0 in /home/marcelo/.local/lib/python3.10/site-packages (from sympy>=1.10.1->DoWhy) (1.3.0)\n",
      "Requirement already satisfied: jinja2 in /usr/lib/python3/dist-packages (from osqp>=0.6.2->cvxpy>=1.2.2->DoWhy) (3.0.3)\n",
      "Requirement already satisfied: setuptools in /usr/lib/python3/dist-packages (from osqp>=0.6.2->cvxpy>=1.2.2->DoWhy) (59.6.0)\n",
      "Requirement already satisfied: six>=1.5 in /usr/lib/python3/dist-packages (from python-dateutil>=2.8.2->pandas>1.0->DoWhy) (1.16.0)\n",
      "Requirement already satisfied: contourpy>=1.0.1 in /home/marcelo/.local/lib/python3.10/site-packages (from matplotlib->causal-learn>=0.1.3.0->DoWhy) (1.3.0)\n",
      "Requirement already satisfied: cycler>=0.10 in /usr/lib/python3/dist-packages (from matplotlib->causal-learn>=0.1.3.0->DoWhy) (0.11.0)\n",
      "Requirement already satisfied: fonttools>=4.22.0 in /usr/lib/python3/dist-packages (from matplotlib->causal-learn>=0.1.3.0->DoWhy) (4.29.1)\n",
      "Requirement already satisfied: kiwisolver>=1.3.1 in /usr/lib/python3/dist-packages (from matplotlib->causal-learn>=0.1.3.0->DoWhy) (1.3.2)\n",
      "Requirement already satisfied: pillow>=8 in /home/marcelo/.local/lib/python3.10/site-packages (from matplotlib->causal-learn>=0.1.3.0->DoWhy) (10.3.0)\n",
      "Requirement already satisfied: pyparsing>=2.3.1 in /home/marcelo/.local/lib/python3.10/site-packages (from matplotlib->causal-learn>=0.1.3.0->DoWhy) (3.2.3)\n",
      "\n",
      "\u001b[1m[\u001b[0m\u001b[34;49mnotice\u001b[0m\u001b[1;39;49m]\u001b[0m\u001b[39;49m A new release of pip is available: \u001b[0m\u001b[31;49m24.2\u001b[0m\u001b[39;49m -> \u001b[0m\u001b[32;49m25.1.1\u001b[0m\n",
      "\u001b[1m[\u001b[0m\u001b[34;49mnotice\u001b[0m\u001b[1;39;49m]\u001b[0m\u001b[39;49m To update, run: \u001b[0m\u001b[32;49mpython3.10 -m pip install --upgrade pip\u001b[0m\n"
     ]
    }
   ],
   "source": [
    "!pip3 install DoWhy"
   ]
  },
  {
   "cell_type": "markdown",
   "metadata": {},
   "source": [
    "## Modelo GPS-Memoria"
   ]
  },
  {
   "cell_type": "code",
   "execution_count": 2,
   "metadata": {},
   "outputs": [],
   "source": [
    "import numpy as np\n",
    "import pandas as pd\n",
    "from scipy import stats\n",
    "\n",
    "import dowhy\n",
    "from dowhy import CausalModel"
   ]
  },
  {
   "cell_type": "code",
   "execution_count": 3,
   "metadata": {},
   "outputs": [],
   "source": [
    "class GPSMemorySCM:\n",
    "    \n",
    "    def __init__(self, random_seed=None):\n",
    "        self.random_seed = random_seed\n",
    "        self.u_x = stats.truncnorm(0, np.infty, scale=5)\n",
    "        self.u_y = stats.norm(scale=2)\n",
    "        self.u_z = stats.norm(scale=2)\n",
    "        self.u = stats.truncnorm(0, np.infty, scale=4)\n",
    "        \n",
    "    def sample(self, sample_size=100, treatment_value=None):\n",
    "        \"\"\"Samples from the SCM\"\"\"\n",
    "        if self.random_seed:\n",
    "            np.random.seed(self.random_seed)\n",
    "        \n",
    "        u_x = self.u_x.rvs(sample_size)\n",
    "        u_y = self.u_y.rvs(sample_size)\n",
    "        u_z = self.u_z.rvs(sample_size)\n",
    "        u = self.u.rvs(sample_size)\n",
    "        \n",
    "        if treatment_value:\n",
    "            gps = np.array([treatment_value]*sample_size)\n",
    "        else:\n",
    "            gps = u_x + 0.7*u\n",
    "            \n",
    "        hippocampus = -0.6*gps + 0.25*u_z\n",
    "        memory = 0.7*hippocampus + 0.25*u\n",
    "        \n",
    "        return gps, hippocampus, memory\n",
    "    \n",
    "    def intervene(self, treatment_value, sample_size=100):\n",
    "        \"\"\"Intervenes on the SCM\"\"\"\n",
    "        return self.sample(treatment_value=treatment_value, sample_size=sample_size)"
   ]
  },
  {
   "cell_type": "code",
   "execution_count": 4,
   "metadata": {},
   "outputs": [],
   "source": [
    "# Instantiate the SCM\n",
    "scm = GPSMemorySCM()\n",
    "\n",
    "# Generate observational data\n",
    "gps_obs, hippocampus_obs, memory_obs = scm.sample(1000)\n",
    "\n",
    "# Encode as a pandas df\n",
    "df = pd.DataFrame(np.vstack([gps_obs, hippocampus_obs, memory_obs]).T, columns=['X', 'Z', 'Y'])"
   ]
  },
  {
   "cell_type": "code",
   "execution_count": 5,
   "metadata": {},
   "outputs": [
    {
     "data": {
      "text/html": [
       "<div>\n",
       "<style scoped>\n",
       "    .dataframe tbody tr th:only-of-type {\n",
       "        vertical-align: middle;\n",
       "    }\n",
       "\n",
       "    .dataframe tbody tr th {\n",
       "        vertical-align: top;\n",
       "    }\n",
       "\n",
       "    .dataframe thead th {\n",
       "        text-align: right;\n",
       "    }\n",
       "</style>\n",
       "<table border=\"1\" class=\"dataframe\">\n",
       "  <thead>\n",
       "    <tr style=\"text-align: right;\">\n",
       "      <th></th>\n",
       "      <th>X</th>\n",
       "      <th>Z</th>\n",
       "      <th>Y</th>\n",
       "    </tr>\n",
       "  </thead>\n",
       "  <tbody>\n",
       "    <tr>\n",
       "      <th>0</th>\n",
       "      <td>4.112216</td>\n",
       "      <td>-2.145154</td>\n",
       "      <td>-0.416641</td>\n",
       "    </tr>\n",
       "    <tr>\n",
       "      <th>1</th>\n",
       "      <td>5.033208</td>\n",
       "      <td>-3.557968</td>\n",
       "      <td>-1.715015</td>\n",
       "    </tr>\n",
       "    <tr>\n",
       "      <th>2</th>\n",
       "      <td>2.072369</td>\n",
       "      <td>-0.980547</td>\n",
       "      <td>-0.156815</td>\n",
       "    </tr>\n",
       "    <tr>\n",
       "      <th>3</th>\n",
       "      <td>4.945853</td>\n",
       "      <td>-2.637407</td>\n",
       "      <td>-0.785717</td>\n",
       "    </tr>\n",
       "    <tr>\n",
       "      <th>4</th>\n",
       "      <td>6.507559</td>\n",
       "      <td>-3.719618</td>\n",
       "      <td>-1.959987</td>\n",
       "    </tr>\n",
       "    <tr>\n",
       "      <th>...</th>\n",
       "      <td>...</td>\n",
       "      <td>...</td>\n",
       "      <td>...</td>\n",
       "    </tr>\n",
       "    <tr>\n",
       "      <th>995</th>\n",
       "      <td>5.246228</td>\n",
       "      <td>-3.577730</td>\n",
       "      <td>-1.520773</td>\n",
       "    </tr>\n",
       "    <tr>\n",
       "      <th>996</th>\n",
       "      <td>6.546688</td>\n",
       "      <td>-4.235398</td>\n",
       "      <td>-1.465884</td>\n",
       "    </tr>\n",
       "    <tr>\n",
       "      <th>997</th>\n",
       "      <td>9.374855</td>\n",
       "      <td>-5.489424</td>\n",
       "      <td>-3.496549</td>\n",
       "    </tr>\n",
       "    <tr>\n",
       "      <th>998</th>\n",
       "      <td>9.176765</td>\n",
       "      <td>-4.474747</td>\n",
       "      <td>-2.941831</td>\n",
       "    </tr>\n",
       "    <tr>\n",
       "      <th>999</th>\n",
       "      <td>4.637124</td>\n",
       "      <td>-3.840523</td>\n",
       "      <td>-1.651353</td>\n",
       "    </tr>\n",
       "  </tbody>\n",
       "</table>\n",
       "<p>1000 rows × 3 columns</p>\n",
       "</div>"
      ],
      "text/plain": [
       "            X         Z         Y\n",
       "0    4.112216 -2.145154 -0.416641\n",
       "1    5.033208 -3.557968 -1.715015\n",
       "2    2.072369 -0.980547 -0.156815\n",
       "3    4.945853 -2.637407 -0.785717\n",
       "4    6.507559 -3.719618 -1.959987\n",
       "..        ...       ...       ...\n",
       "995  5.246228 -3.577730 -1.520773\n",
       "996  6.546688 -4.235398 -1.465884\n",
       "997  9.374855 -5.489424 -3.496549\n",
       "998  9.176765 -4.474747 -2.941831\n",
       "999  4.637124 -3.840523 -1.651353\n",
       "\n",
       "[1000 rows x 3 columns]"
      ]
     },
     "execution_count": 5,
     "metadata": {},
     "output_type": "execute_result"
    }
   ],
   "source": [
    "df"
   ]
  },
  {
   "cell_type": "code",
   "execution_count": 6,
   "metadata": {},
   "outputs": [],
   "source": [
    "gml_graph = \"\"\"\n",
    "graph [\n",
    "    directed 1\n",
    "    \n",
    "    node [\n",
    "        id \"X\" \n",
    "        label \"X\"\n",
    "    ]    \n",
    "    node [\n",
    "        id \"Z\"\n",
    "        label \"Z\"\n",
    "    ]\n",
    "    node [\n",
    "        id \"Y\"\n",
    "        label \"Y\"\n",
    "    ]\n",
    "    node [\n",
    "        id \"U\"\n",
    "        label \"U\"\n",
    "    ]\n",
    "    \n",
    "    edge [\n",
    "        source \"X\"\n",
    "        target \"Z\"\n",
    "    ]\n",
    "    edge [\n",
    "        source \"Z\"\n",
    "        target \"Y\"\n",
    "    ]\n",
    "    edge [\n",
    "        source \"U\"\n",
    "        target \"X\"\n",
    "    ]\n",
    "    edge [\n",
    "        source \"U\"\n",
    "        target \"Y\"\n",
    "    ]\n",
    "]\n",
    "\"\"\""
   ]
  },
  {
   "cell_type": "code",
   "execution_count": 7,
   "metadata": {},
   "outputs": [
    {
     "name": "stderr",
     "output_type": "stream",
     "text": [
      "/home/marcelo/.local/lib/python3.10/site-packages/dowhy/causal_model.py:583: UserWarning: 1 variables are assumed unobserved because they are not in the dataset. Configure the logging level to `logging.WARNING` or higher for additional details.\n",
      "  warnings.warn(\n"
     ]
    }
   ],
   "source": [
    "model = CausalModel(\n",
    "    data=df,\n",
    "    treatment='X',\n",
    "    outcome='Y',\n",
    "    graph=gml_graph\n",
    ")"
   ]
  },
  {
   "cell_type": "code",
   "execution_count": 8,
   "metadata": {},
   "outputs": [
    {
     "data": {
      "image/png": "[encoded data removed]",
      "text/plain": [
       "<Figure size 576x432 with 1 Axes>"
      ]
     },
     "metadata": {},
     "output_type": "display_data"
    }
   ],
   "source": [
    "model.view_model()"
   ]
  },
  {
   "cell_type": "code",
   "execution_count": 9,
   "metadata": {},
   "outputs": [
    {
     "name": "stdout",
     "output_type": "stream",
     "text": [
      "Estimand type: EstimandType.NONPARAMETRIC_ATE\n",
      "\n",
      "### Estimand : 1\n",
      "Estimand name: backdoor\n",
      "No such variable(s) found!\n",
      "\n",
      "### Estimand : 2\n",
      "Estimand name: iv\n",
      "No such variable(s) found!\n",
      "\n",
      "### Estimand : 3\n",
      "Estimand name: frontdoor\n",
      "Estimand expression:\n",
      " ⎡ d       d       ⎤\n",
      "E⎢────(Y)⋅────([Z])⎥\n",
      " ⎣d[Z]    d[X]     ⎦\n",
      "Estimand assumption 1, Full-mediation: Z intercepts (blocks) all directed paths from X to Y.\n",
      "Estimand assumption 2, First-stage-unconfoundedness: If U→{X} and U→{Z} then P(Z|X,U) = P(Z|X)\n",
      "Estimand assumption 3, Second-stage-unconfoundedness: If U→{Z} and U→Y then P(Y|Z, X, U) = P(Y|Z, X)\n",
      "\n"
     ]
    }
   ],
   "source": [
    "estimand = model.identify_effect()\n",
    "print(estimand)"
   ]
  },
  {
   "cell_type": "code",
   "execution_count": 10,
   "metadata": {},
   "outputs": [
    {
     "name": "stdout",
     "output_type": "stream",
     "text": [
      "Estimate of causal effect (linear regression): -0.4171837461368608\n"
     ]
    },
    {
     "name": "stderr",
     "output_type": "stream",
     "text": [
      "/home/marcelo/.local/lib/python3.10/site-packages/dowhy/causal_estimators/regression_estimator.py:131: FutureWarning: Series.__getitem__ treating keys as positions is deprecated. In a future version, integer keys will always be treated as labels (consistent with DataFrame behavior). To access a value by position, use `ser.iloc[pos]`\n",
      "  intercept_parameter = self.model.params[0]\n",
      "/home/marcelo/.local/lib/python3.10/site-packages/dowhy/causal_estimators/regression_estimator.py:131: FutureWarning: Series.__getitem__ treating keys as positions is deprecated. In a future version, integer keys will always be treated as labels (consistent with DataFrame behavior). To access a value by position, use `ser.iloc[pos]`\n",
      "  intercept_parameter = self.model.params[0]\n"
     ]
    }
   ],
   "source": [
    "estimate = model.estimate_effect(\n",
    "    identified_estimand=estimand,\n",
    "    method_name='frontdoor.two_stage_regression')\n",
    "\n",
    "print(f'Estimate of causal effect (linear regression): {estimate.value}')"
   ]
  },
  {
   "cell_type": "code",
   "execution_count": null,
   "metadata": {},
   "outputs": [],
   "source": []
  }
 ],
 "metadata": {
  "kernelspec": {
   "display_name": "Python 3 (ipykernel)",
   "language": "python",
   "name": "python3"
  },
  "language_info": {
   "codemirror_mode": {
    "name": "ipython",
    "version": 3
   },
   "file_extension": ".py",
   "mimetype": "text/x-python",
   "name": "python",
   "nbconvert_exporter": "python",
   "pygments_lexer": "ipython3",
   "version": "3.10.12"
  }
 },
 "nbformat": 4,
 "nbformat_minor": 4
}
