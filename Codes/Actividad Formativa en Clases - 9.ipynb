{
 "cells": [
  {
   "cell_type": "markdown",
   "metadata": {},
   "source": [
    "# IIC-2433 Minería de Datos UC"
   ]
  },
  {
   "cell_type": "markdown",
   "metadata": {},
   "source": [
    "- Versiones de librerías, python 3.8.10\n",
    "\n",
    "- numpy 1.20.3\n",
    "- sklearn 1.3.1\n",
    "- DoWhy 0.12\n",
    "- scipy 1.15.3"
   ]
  },
  {
   "cell_type": "code",
   "execution_count": 1,
   "metadata": {},
   "outputs": [],
   "source": [
    "import numpy as np\n",
    "import pandas as pd\n",
    "from scipy import stats\n",
    "\n",
    "import dowhy\n",
    "from dowhy import CausalModel"
   ]
  },
  {
   "cell_type": "code",
   "execution_count": 2,
   "metadata": {},
   "outputs": [],
   "source": [
    "class GPSMemorySCM:\n",
    "    \n",
    "    def __init__(self, random_seed=None):\n",
    "        self.random_seed = random_seed\n",
    "        self.u_x = stats.truncnorm(0, np.infty, scale=5)\n",
    "        self.u_y = stats.norm(scale=2)\n",
    "        self.u_z1 = stats.norm(scale=2)\n",
    "        self.u_z2 = stats.norm(scale=2)\n",
    "        self.u = stats.truncnorm(0, np.infty, scale=4)\n",
    "        \n",
    "    def sample(self, sample_size=100, treatment_value=None):\n",
    "        \"\"\"Samples from the SCM\"\"\"\n",
    "        if self.random_seed:\n",
    "            np.random.seed(self.random_seed)\n",
    "        \n",
    "        u_x = self.u_x.rvs(sample_size)\n",
    "        u_y = self.u_y.rvs(sample_size)\n",
    "        u_z1 = self.u_z1.rvs(sample_size)\n",
    "        u_z2 = self.u_z2.rvs(sample_size)\n",
    "        u = self.u.rvs(sample_size)\n",
    "        \n",
    "        if treatment_value:\n",
    "            gps = np.array([treatment_value]*sample_size)\n",
    "        else:\n",
    "            gps = u_x + 0.7*u\n",
    "            \n",
    "        hippocampus = -0.2*gps + 0.35*u_z1 \n",
    "        sensoring = 0.25*u_z2 - 0.2*hippocampus\n",
    "        memory = 0.45*u + 0.25*sensoring\n",
    "        \n",
    "        return gps, hippocampus, sensoring, memory\n",
    "    \n",
    "    def intervene(self, treatment_value, sample_size=100):\n",
    "        \"\"\"Intervenes on the SCM\"\"\"\n",
    "        return self.sample(treatment_value=treatment_value, sample_size=sample_size)"
   ]
  },
  {
   "cell_type": "markdown",
   "metadata": {
    "jp-MarkdownHeadingCollapsed": true
   },
   "source": [
    "## Actividad en clase\n",
    "\n",
    "Haga lo siguiente:\n",
    "\n",
    "- Observe que se introdujo la variable observable sensoring entre hippocampus y memory. \n",
    "- Instancie el modelo y cree el df a partir de las variables observables.\n",
    "- Cree el grafo conforme con el modelo.\n",
    "- Cree el modelo declarando como efecto Y y como variable a intervenir X.\n",
    "- Identifique la relación causal entre X e Y a partir del modelo\n",
    "- Cuanto termine, me avisa para entregarle una **L (logrado)**.\n",
    "- Recuerde que cada L es una décima más en la nota de la asignatura.\n",
    "- Pueden trabajar de a dos.\n",
    "\n",
    "***Tiene hasta el final de la clase.***\n"
   ]
  },
  {
   "cell_type": "markdown",
   "metadata": {},
   "source": [
    "# Solución"
   ]
  },
  {
   "cell_type": "code",
   "execution_count": 3,
   "metadata": {},
   "outputs": [],
   "source": [
    "# Instantiate the SCM\n",
    "scm = GPSMemorySCM()\n",
    "\n",
    "# Generate observational data\n",
    "gps_obs, hippocampus_obs, sensoring_obs, memory_obs = scm.sample(1000)\n",
    "\n",
    "# Encode as a pandas df\n",
    "df = pd.DataFrame(np.vstack([gps_obs, hippocampus_obs, sensoring_obs, memory_obs]).T, columns=['X', 'Z1', 'Z2', 'Y'])"
   ]
  },
  {
   "cell_type": "code",
   "execution_count": 4,
   "metadata": {},
   "outputs": [],
   "source": [
    "gml_graph = \"\"\"\n",
    "graph [\n",
    "    directed 1\n",
    "    \n",
    "    node [\n",
    "        id \"X\" \n",
    "        label \"X\"\n",
    "    ]    \n",
    "    node [\n",
    "        id \"Z1\"\n",
    "        label \"Z1\"\n",
    "    ]\n",
    "    node [\n",
    "        id \"Z2\"\n",
    "        label \"Z2\"\n",
    "    ]\n",
    "    node [\n",
    "        id \"Y\"\n",
    "        label \"Y\"\n",
    "    ]\n",
    "    node [\n",
    "        id \"U\"\n",
    "        label \"U\"\n",
    "    ]\n",
    "    \n",
    "    edge [\n",
    "        source \"X\"\n",
    "        target \"Z1\"\n",
    "    ]\n",
    "    edge [\n",
    "        source \"Z1\"\n",
    "        target \"Z2\"\n",
    "    ]\n",
    "    edge [\n",
    "        source \"Z2\"\n",
    "        target \"Y\"\n",
    "    ]\n",
    "    edge [\n",
    "        source \"U\"\n",
    "        target \"Y\"\n",
    "    ]\n",
    "]\n",
    "\"\"\""
   ]
  },
  {
   "cell_type": "code",
   "execution_count": 5,
   "metadata": {},
   "outputs": [
    {
     "name": "stderr",
     "output_type": "stream",
     "text": [
      "/home/marcelo/.local/lib/python3.10/site-packages/dowhy/causal_model.py:583: UserWarning: 1 variables are assumed unobserved because they are not in the dataset. Configure the logging level to `logging.WARNING` or higher for additional details.\n",
      "  warnings.warn(\n"
     ]
    },
    {
     "data": {
      "image/png": "[encoded data removed]",
      "text/plain": [
       "<Figure size 576x432 with 1 Axes>"
      ]
     },
     "metadata": {},
     "output_type": "display_data"
    }
   ],
   "source": [
    "model = CausalModel(\n",
    "    data=df,\n",
    "    treatment='X',\n",
    "    outcome='Y',\n",
    "    graph=gml_graph\n",
    ")\n",
    "\n",
    "\n",
    "model.view_model()"
   ]
  },
  {
   "cell_type": "code",
   "execution_count": 6,
   "metadata": {},
   "outputs": [
    {
     "name": "stdout",
     "output_type": "stream",
     "text": [
      "Estimand type: EstimandType.NONPARAMETRIC_ATE\n",
      "\n",
      "### Estimand : 1\n",
      "Estimand name: backdoor\n",
      "Estimand expression:\n",
      " d        \n",
      "────(E[Y])\n",
      "d[X]      \n",
      "Estimand assumption 1, Unconfoundedness: If U→{X} and U→Y then P(Y|X,,U) = P(Y|X,)\n",
      "\n",
      "### Estimand : 2\n",
      "Estimand name: iv\n",
      "No such variable(s) found!\n",
      "\n",
      "### Estimand : 3\n",
      "Estimand name: frontdoor\n",
      "Estimand expression:\n",
      " ⎡    d         ∂            ⎤\n",
      "E⎢─────────(Y)⋅────([Z₁  Z₂])⎥\n",
      " ⎣d[Z₁  Z₂]    ∂[X]          ⎦\n",
      "Estimand assumption 1, Full-mediation: Z1,Z2 intercepts (blocks) all directed paths from X to Y.\n",
      "Estimand assumption 2, First-stage-unconfoundedness: If U→{X} and U→{Z1,Z2} then P(Z1,Z2|X,U) = P(Z1,Z2|X)\n",
      "Estimand assumption 3, Second-stage-unconfoundedness: If U→{Z1,Z2} and U→Y then P(Y|Z1,Z2, X, U) = P(Y|Z1,Z2, X)\n",
      "\n"
     ]
    }
   ],
   "source": [
    "estimand = model.identify_effect()\n",
    "print(estimand)"
   ]
  },
  {
   "cell_type": "code",
   "execution_count": null,
   "metadata": {},
   "outputs": [],
   "source": []
  }
 ],
 "metadata": {
  "kernelspec": {
   "display_name": "Python 3 (ipykernel)",
   "language": "python",
   "name": "python3"
  },
  "language_info": {
   "codemirror_mode": {
    "name": "ipython",
    "version": 3
   },
   "file_extension": ".py",
   "mimetype": "text/x-python",
   "name": "python",
   "nbconvert_exporter": "python",
   "pygments_lexer": "ipython3",
   "version": "3.11.9"
  }
 },
 "nbformat": 4,
 "nbformat_minor": 4
}
